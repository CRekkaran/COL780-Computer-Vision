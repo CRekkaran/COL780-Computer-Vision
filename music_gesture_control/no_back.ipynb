{
 "cells": [
  {
   "cell_type": "code",
   "execution_count": 1,
   "metadata": {},
   "outputs": [
    {
     "name": "stdout",
     "output_type": "stream",
     "text": [
      "Supressed Warnings..\n"
     ]
    },
    {
     "name": "stderr",
     "output_type": "stream",
     "text": [
      "Using TensorFlow backend.\n"
     ]
    }
   ],
   "source": [
    "import numpy as np\n",
    "import pandas as pd\n",
    "import warnings\n",
    "\n",
    "with warnings.catch_warnings():  \n",
    "    warnings.filterwarnings(\"ignore\",category=FutureWarning)\n",
    "    import tensorflow as tf\n",
    "    from tensorflow import keras\n",
    "    from tensorflow.keras.preprocessing.text import Tokenizer\n",
    "    print('Supressed Warnings..')\n",
    "\n",
    "from keras.preprocessing.image import ImageDataGenerator, load_img\n",
    "from keras.utils import to_categorical\n",
    "from sklearn.model_selection import train_test_split\n",
    "import matplotlib.pyplot as plt\n",
    "import random\n",
    "import os\n",
    "\n",
    "FAST_RUN = True\n",
    "IMAGE_WIDTH=50\n",
    "IMAGE_HEIGHT=50\n",
    "IMAGE_SIZE=(IMAGE_WIDTH, IMAGE_HEIGHT)\n",
    "IMAGE_CHANNELS=3"
   ]
  },
  {
   "cell_type": "code",
   "execution_count": 2,
   "metadata": {},
   "outputs": [],
   "source": [
    "filenames = os.listdir(\"./canny/train\")\n",
    "categories = []\n",
    "for filename in filenames:\n",
    "    category = filename.split('.')[0]\n",
    "    if category == 'next':\n",
    "        categories.append(1)\n",
    "    elif category == 'prev':\n",
    "        categories.append(2)\n",
    "    elif category == 'pause':\n",
    "        categories.append(3)\n",
    "    elif category == 'others':\n",
    "        categories.append(4)"
   ]
  },
  {
   "cell_type": "code",
   "execution_count": 3,
   "metadata": {},
   "outputs": [
    {
     "name": "stdout",
     "output_type": "stream",
     "text": [
      "           filename  category\n",
      "0     prev.1774.png         2\n",
      "1    pause.3241.png         3\n",
      "2     prev.1401.png         2\n",
      "3     prev.1561.png         2\n",
      "4     next.1145.png         1\n",
      "5   others.2292.png         4\n",
      "6   others.2723.png         4\n",
      "7    pause.2168.png         3\n",
      "8   others.1314.png         4\n",
      "9     pause.544.png         3\n",
      "10     next.966.png         1\n",
      "11    next.1799.png         1\n",
      "12     prev.401.png         2\n",
      "13     prev.485.png         2\n",
      "14   others.591.png         4\n",
      "15   others.437.png         4\n",
      "16   pause.1328.png         3\n",
      "17  others.2767.png         4\n",
      "18  others.2077.png         4\n",
      "19    prev.1634.png         2\n"
     ]
    },
    {
     "data": {
      "text/plain": [
       "<matplotlib.image.AxesImage at 0x7fc9d8405c18>"
      ]
     },
     "execution_count": 3,
     "metadata": {},
     "output_type": "execute_result"
    },
    {
     "data": {
      "image/png": "[encoded data removed]",
      "text/plain": [
       "<Figure size 432x288 with 1 Axes>"
      ]
     },
     "metadata": {
      "needs_background": "light"
     },
     "output_type": "display_data"
    }
   ],
   "source": [
    "df = pd.DataFrame({\n",
    "    'filename': filenames,\n",
    "    'category': categories\n",
    "})\n",
    "print(df.head(20))\n",
    "df.tail()\n",
    "df['category'].value_counts().plot.bar()\n",
    "sample = random.choice(filenames)\n",
    "image = load_img(\"./canny/train/\"+sample)\n",
    "plt.imshow(image)\n"
   ]
  },
  {
   "cell_type": "code",
   "execution_count": 4,
   "metadata": {},
   "outputs": [],
   "source": [
    "from keras.models import Sequential\n",
    "from keras.layers import Conv2D, MaxPooling2D, Dropout, Flatten, Dense, Activation, BatchNormalization\n"
   ]
  },
  {
   "cell_type": "code",
   "execution_count": 5,
   "metadata": {},
   "outputs": [
    {
     "name": "stdout",
     "output_type": "stream",
     "text": [
      "WARNING:tensorflow:From /home/karan/.local/lib/python3.6/site-packages/keras/backend/tensorflow_backend.py:4070: The name tf.nn.max_pool is deprecated. Please use tf.nn.max_pool2d instead.\n",
      "\n",
      "Model: \"sequential_1\"\n",
      "_________________________________________________________________\n",
      "Layer (type)                 Output Shape              Param #   \n",
      "=================================================================\n",
      "conv2d_1 (Conv2D)            (None, 49, 49, 32)        416       \n",
      "_________________________________________________________________\n",
      "activation_1 (Activation)    (None, 49, 49, 32)        0         \n",
      "_________________________________________________________________\n",
      "max_pooling2d_1 (MaxPooling2 (None, 24, 24, 32)        0         \n",
      "_________________________________________________________________\n",
      "conv2d_2 (Conv2D)            (None, 23, 23, 32)        4128      \n",
      "_________________________________________________________________\n",
      "activation_2 (Activation)    (None, 23, 23, 32)        0         \n",
      "_________________________________________________________________\n",
      "max_pooling2d_2 (MaxPooling2 (None, 11, 11, 32)        0         \n",
      "_________________________________________________________________\n",
      "conv2d_3 (Conv2D)            (None, 10, 10, 64)        8256      \n",
      "_________________________________________________________________\n",
      "activation_3 (Activation)    (None, 10, 10, 64)        0         \n",
      "_________________________________________________________________\n",
      "max_pooling2d_3 (MaxPooling2 (None, 5, 5, 64)          0         \n",
      "_________________________________________________________________\n",
      "flatten_1 (Flatten)          (None, 1600)              0         \n",
      "_________________________________________________________________\n",
      "dense_1 (Dense)              (None, 64)                102464    \n",
      "_________________________________________________________________\n",
      "activation_4 (Activation)    (None, 64)                0         \n",
      "_________________________________________________________________\n",
      "dropout_1 (Dropout)          (None, 64)                0         \n",
      "_________________________________________________________________\n",
      "dense_2 (Dense)              (None, 4)                 260       \n",
      "_________________________________________________________________\n",
      "activation_5 (Activation)    (None, 4)                 0         \n",
      "=================================================================\n",
      "Total params: 115,524\n",
      "Trainable params: 115,524\n",
      "Non-trainable params: 0\n",
      "_________________________________________________________________\n"
     ]
    }
   ],
   "source": [
    "from keras import optimizers\n",
    "model = Sequential()\n",
    "\n",
    "# model.add(Conv2D(32, (3, 3), activation='relu', input_shape=(IMAGE_WIDTH, IMAGE_HEIGHT, IMAGE_CHANNELS)))\n",
    "# model.add(BatchNormalization())\n",
    "# model.add(MaxPooling2D(pool_size=(2, 2)))\n",
    "# model.add(Dropout(0.25))\n",
    "\n",
    "# model.add(Conv2D(64, (3, 3), activation='relu'))\n",
    "# model.add(BatchNormalization())\n",
    "# model.add(MaxPooling2D(pool_size=(2, 2)))\n",
    "# model.add(Dropout(0.25))\n",
    "\n",
    "# model.add(Conv2D(128, (3, 3), activation='relu'))\n",
    "# model.add(BatchNormalization())\n",
    "# model.add(MaxPooling2D(pool_size=(2, 2)))\n",
    "# model.add(Dropout(0.25))\n",
    "\n",
    "# model.add(Flatten())\n",
    "# model.add(Dense(512, activation='relu'))\n",
    "# model.add(BatchNormalization())\n",
    "# model.add(Dropout(0.5))\n",
    "# model.add(Dense(2, activation='softmax')) # 2 because we have cat and dog classes\n",
    "\n",
    "#-----\n",
    "model.add(Conv2D(32, (2, 2), input_shape=(IMAGE_WIDTH, IMAGE_HEIGHT, IMAGE_CHANNELS))) \n",
    "model.add(Activation('relu')) \n",
    "model.add(MaxPooling2D(pool_size=(2, 2))) \n",
    "  \n",
    "model.add(Conv2D(32, (2, 2))) \n",
    "model.add(Activation('relu')) \n",
    "model.add(MaxPooling2D(pool_size=(2, 2))) \n",
    "  \n",
    "model.add(Conv2D(64, (2, 2))) \n",
    "model.add(Activation('relu')) \n",
    "model.add(MaxPooling2D(pool_size=(2, 2))) \n",
    "  \n",
    "model.add(Flatten()) \n",
    "model.add(Dense(64)) \n",
    "model.add(Activation('relu')) \n",
    "model.add(Dropout(0.5)) \n",
    "model.add(Dense(4)) \n",
    "model.add(Activation('sigmoid')) \n",
    "\n",
    "sgd = optimizers.SGD(lr=0.01, decay=1e-6, momentum=0.9, nesterov=True)\n",
    "model.compile(loss='categorical_crossentropy', optimizer=sgd, metrics=['accuracy'])\n",
    "\n",
    "# model.compile(loss='categorical_crossentropy', optimizer='rmsprop', metrics=['accuracy'])\n",
    "# model.compile(loss='binary_crossentropy', optimizer='rmsprop', metrics=['accuracy'])\n",
    "\n",
    "\n",
    "model.summary()"
   ]
  },
  {
   "cell_type": "code",
   "execution_count": 6,
   "metadata": {},
   "outputs": [
    {
     "data": {
      "image/png": "[encoded data removed]",
      "text/plain": [
       "<Figure size 432x288 with 1 Axes>"
      ]
     },
     "metadata": {
      "needs_background": "light"
     },
     "output_type": "display_data"
    }
   ],
   "source": [
    "from keras.callbacks import EarlyStopping, ReduceLROnPlateau\n",
    "earlystop = EarlyStopping(patience=5)\n",
    "learning_rate_reduction = ReduceLROnPlateau(monitor='val_acc', \n",
    "                                            patience=2, \n",
    "                                            verbose=1, \n",
    "                                            factor=0.5, \n",
    "                                            min_lr=0.00001)\n",
    "\n",
    "callbacks = [earlystop, learning_rate_reduction]\n",
    "df[\"category\"] = df[\"category\"].replace({3: 'pause', 1: 'next', 2: 'prev', 4: 'others'})\n",
    "\n",
    "\n",
    "# 2 - cross validation\n",
    "train_df, validate_df = train_test_split(df, test_size=0.20, random_state=42)\n",
    "train_df = train_df.reset_index(drop=True)\n",
    "validate_df = validate_df.reset_index(drop=True)\n",
    "\n",
    "train_df['category'].value_counts().plot.bar()\n",
    "validate_df['category'].value_counts().plot.bar()\n",
    "total_train = train_df.shape[0]\n",
    "total_validate = validate_df.shape[0]\n",
    "batch_size=32"
   ]
  },
  {
   "cell_type": "code",
   "execution_count": 7,
   "metadata": {},
   "outputs": [
    {
     "name": "stdout",
     "output_type": "stream",
     "text": [
      "Found 8927 validated image filenames belonging to 4 classes.\n",
      "Found 2232 validated image filenames belonging to 4 classes.\n"
     ]
    }
   ],
   "source": [
    "train_datagen = ImageDataGenerator(\n",
    "    rotation_range=15,\n",
    "    rescale=1./255,\n",
    "    shear_range=0.1,\n",
    "    zoom_range=0.2,\n",
    "    horizontal_flip=False,\n",
    "    vertical_flip=True,\n",
    "    width_shift_range=0.1,\n",
    "    height_shift_range=0.1\n",
    ")\n",
    "\n",
    "train_generator = train_datagen.flow_from_dataframe(\n",
    "    train_df, \n",
    "    \"./canny/train/\", \n",
    "    x_col='filename',\n",
    "    y_col='category',\n",
    "    target_size=IMAGE_SIZE,\n",
    "    class_mode='categorical',\n",
    "    batch_size=batch_size\n",
    ")\n",
    "\n",
    "validation_datagen = ImageDataGenerator(rescale=1./255)\n",
    "validation_generator = validation_datagen.flow_from_dataframe(\n",
    "    validate_df, \n",
    "    \"./canny/train/\", \n",
    "    x_col='filename',\n",
    "    y_col='category',\n",
    "    target_size=IMAGE_SIZE,\n",
    "    class_mode='categorical',\n",
    "    batch_size=batch_size\n",
    ") \n",
    "\n",
    "# plt.figure(figsize=(12, 12))\n",
    "# for i in range(0, 15):\n",
    "#     plt.subplot(5, 3, i+1)\n",
    "#     for X_batch, Y_batch in example_generator:\n",
    "#         image = X_batch[0]\n",
    "#         plt.imshow(image)\n",
    "#         break\n",
    "# plt.tight_layout()\n",
    "# plt.show()"
   ]
  },
  {
   "cell_type": "code",
   "execution_count": 8,
   "metadata": {},
   "outputs": [
    {
     "name": "stdout",
     "output_type": "stream",
     "text": [
      "WARNING:tensorflow:From /home/karan/.local/lib/python3.6/site-packages/tensorflow/python/ops/math_grad.py:1250: add_dispatch_support.<locals>.wrapper (from tensorflow.python.ops.array_ops) is deprecated and will be removed in a future version.\n",
      "Instructions for updating:\n",
      "Use tf.where in 2.0, which has the same broadcast rule as np.where\n",
      "WARNING:tensorflow:From /home/karan/.local/lib/python3.6/site-packages/keras/backend/tensorflow_backend.py:422: The name tf.global_variables is deprecated. Please use tf.compat.v1.global_variables instead.\n",
      "\n",
      "Epoch 1/10\n",
      "278/278 [==============================] - 22s 79ms/step - loss: 1.1793 - accuracy: 0.4618 - val_loss: 1.2070 - val_accuracy: 0.5978\n",
      "Epoch 2/10\n",
      "  2/278 [..............................] - ETA: 27s - loss: 0.8193 - accuracy: 0.6094"
     ]
    },
    {
     "name": "stderr",
     "output_type": "stream",
     "text": [
      "/home/karan/.local/lib/python3.6/site-packages/keras/callbacks/callbacks.py:1042: RuntimeWarning: Reduce LR on plateau conditioned on metric `val_acc` which is not available. Available metrics are: val_loss,val_accuracy,loss,accuracy,lr\n",
      "  (self.monitor, ','.join(list(logs.keys()))), RuntimeWarning\n"
     ]
    },
    {
     "name": "stdout",
     "output_type": "stream",
     "text": [
      "278/278 [==============================] - 22s 78ms/step - loss: 0.6920 - accuracy: 0.7243 - val_loss: 0.3392 - val_accuracy: 0.9036\n",
      "Epoch 3/10\n",
      "278/278 [==============================] - 23s 82ms/step - loss: 0.5226 - accuracy: 0.7969 - val_loss: 0.2698 - val_accuracy: 0.9177\n",
      "Epoch 4/10\n",
      "278/278 [==============================] - 21s 75ms/step - loss: 0.4343 - accuracy: 0.8359 - val_loss: 0.0352 - val_accuracy: 0.9305\n",
      "Epoch 5/10\n",
      "278/278 [==============================] - 21s 77ms/step - loss: 0.3753 - accuracy: 0.8570 - val_loss: 0.0883 - val_accuracy: 0.9495\n",
      "Epoch 6/10\n",
      "278/278 [==============================] - 20s 72ms/step - loss: 0.3339 - accuracy: 0.8771 - val_loss: 0.0221 - val_accuracy: 0.9859\n",
      "Epoch 7/10\n",
      "278/278 [==============================] - 20s 72ms/step - loss: 0.3086 - accuracy: 0.8843 - val_loss: 0.3832 - val_accuracy: 0.9764\n",
      "Epoch 8/10\n",
      "278/278 [==============================] - 20s 72ms/step - loss: 0.2784 - accuracy: 0.8977 - val_loss: 0.3269 - val_accuracy: 0.9668\n",
      "Epoch 9/10\n",
      "278/278 [==============================] - 19s 70ms/step - loss: 0.2666 - accuracy: 0.9028 - val_loss: 0.3772 - val_accuracy: 0.9523\n",
      "Epoch 10/10\n",
      "278/278 [==============================] - 20s 71ms/step - loss: 0.2611 - accuracy: 0.9083 - val_loss: 0.0409 - val_accuracy: 0.9800\n"
     ]
    }
   ],
   "source": [
    "epochs=10 if FAST_RUN else 10\n",
    "history = model.fit_generator(\n",
    "    train_generator, \n",
    "    epochs=epochs,\n",
    "    validation_data=validation_generator,\n",
    "    validation_steps=total_validate//batch_size,\n",
    "    steps_per_epoch=total_train//batch_size,\n",
    "    callbacks=callbacks\n",
    ")"
   ]
  },
  {
   "cell_type": "code",
   "execution_count": 9,
   "metadata": {},
   "outputs": [],
   "source": [
    "model.save_weights(\"model.h5\")"
   ]
  },
  {
   "cell_type": "code",
   "execution_count": 10,
   "metadata": {},
   "outputs": [
    {
     "data": {
      "image/png": "[encoded data removed]",
      "text/plain": [
       "<Figure size 432x288 with 1 Axes>"
      ]
     },
     "metadata": {
      "needs_background": "light"
     },
     "output_type": "display_data"
    },
    {
     "data": {
      "image/png": "[encoded data removed]",
      "text/plain": [
       "<Figure size 432x288 with 1 Axes>"
      ]
     },
     "metadata": {
      "needs_background": "light"
     },
     "output_type": "display_data"
    }
   ],
   "source": [
    "# visualize training\n",
    "# fig, (ax1, ax2) = plt.subplots(2, 1, figsize=(12, 12))\n",
    "# ax1.plot(history.history['loss'], color='b', label=\"Training loss\")\n",
    "# ax1.plot(history.history['val_loss'], color='r', label=\"validation loss\")\n",
    "# ax1.set_xticks(np.arange(1, epochs, 1))\n",
    "# ax1.set_yticks(np.arange(0, 1, 0.1))\n",
    "\n",
    "# ax2.plot(history.history['accuracy'], color='b', label=\"Training accuracy\")\n",
    "# ax2.plot(history.history['val_accuracy'], color='r',label=\"Validation accuracy\")\n",
    "# ax2.set_xticks(np.arange(1, epochs, 1))\n",
    "\n",
    "# legend = plt.legend(loc='best', shadow=True)\n",
    "# plt.tight_layout()\n",
    "# Plot training & validation accuracy values\n",
    "plt.plot(history.history['accuracy'])\n",
    "plt.plot(history.history['val_accuracy'])\n",
    "plt.title('Model accuracy')\n",
    "plt.ylabel('Accuracy')\n",
    "plt.xlabel('Epoch')\n",
    "plt.legend(['Train', 'Test'], loc='upper left')\n",
    "plt.show()\n",
    "\n",
    "# Plot training & validation loss values\n",
    "plt.plot(history.history['loss'])\n",
    "plt.plot(history.history['val_loss'])\n",
    "plt.title('Model loss')\n",
    "plt.ylabel('Loss')\n",
    "plt.xlabel('Epoch')\n",
    "plt.legend(['Train', 'Test'], loc='upper left')\n",
    "plt.show()"
   ]
  },
  {
   "cell_type": "code",
   "execution_count": 12,
   "metadata": {},
   "outputs": [
    {
     "name": "stdout",
     "output_type": "stream",
     "text": [
      "Found 2790 validated image filenames.\n",
      "------------------Testing Data---------------------\n",
      "             filename category\n",
      "2772    next.2892.png     next\n",
      "2773     next.834.png     next\n",
      "2774    next.2488.png     next\n",
      "2775    prev.2642.png     prev\n",
      "2776    prev.1002.png     prev\n",
      "2777   pause.3142.png    pause\n",
      "2778     next.275.png     next\n",
      "2779     next.462.png     next\n",
      "2780    pause.761.png    pause\n",
      "2781    prev.1566.png     prev\n",
      "2782     next.453.png     next\n",
      "2783    prev.1431.png     prev\n",
      "2784   others.492.png   others\n",
      "2785    next.3088.png     next\n",
      "2786  others.1006.png     next\n",
      "2787    next.2250.png     next\n",
      "2788     next.437.png     next\n",
      "2789   others.689.png   others\n"
     ]
    },
    {
     "data": {
      "image/png": "[encoded data removed]",
      "text/plain": [
       "<Figure size 432x288 with 1 Axes>"
      ]
     },
     "metadata": {
      "needs_background": "light"
     },
     "output_type": "display_data"
    }
   ],
   "source": [
    "test_filenames = os.listdir('./canny/test1')\n",
    "test_df = pd.DataFrame({\n",
    "    'filename': test_filenames\n",
    "})\n",
    "nb_samples = test_df.shape[0]\n",
    "\n",
    "test_gen = ImageDataGenerator(rescale=1./255)\n",
    "test_generator = test_gen.flow_from_dataframe(\n",
    "    test_df, \n",
    "    \"./canny/test1/\", \n",
    "    x_col='filename',\n",
    "    y_col=None,\n",
    "    class_mode=None,\n",
    "    target_size=IMAGE_SIZE,\n",
    "    batch_size=batch_size,\n",
    "    shuffle=False\n",
    ")\n",
    "\n",
    "predict = model.predict_generator(test_generator, steps=np.ceil(nb_samples/batch_size))\n",
    "test_df['category'] = np.argmax(predict, axis=-1)\n",
    "label_map = dict((v,k) for k,v in train_generator.class_indices.items())\n",
    "test_df['category'] = test_df['category'].replace(label_map)\n",
    "# test_df['category'] = test_df['category'].replace({ 'next': 1, 'pause': 0 })\n",
    "test_df['category'].value_counts().plot.bar()\n",
    "\n",
    "sample_test = test_df.tail(18)\n",
    "print('------------------Testing Data---------------------')\n",
    "print(sample_test)"
   ]
  },
  {
   "cell_type": "code",
   "execution_count": 12,
   "metadata": {},
   "outputs": [],
   "source": [
    "import json\n",
    "\n",
    "model_json = model.to_json()\n",
    "with open(\"model_in_json.json\", \"w\") as json_file:\n",
    "    json.dump(model_json, json_file)\n",
    "\n",
    "model.save_weights(\"model_weights.h5\")"
   ]
  },
  {
   "cell_type": "code",
   "execution_count": null,
   "metadata": {},
   "outputs": [],
   "source": []
  }
 ],
 "metadata": {
  "kernelspec": {
   "display_name": "Python 3",
   "language": "python",
   "name": "python3"
  },
  "language_info": {
   "codemirror_mode": {
    "name": "ipython",
    "version": 3
   },
   "file_extension": ".py",
   "mimetype": "text/x-python",
   "name": "python",
   "nbconvert_exporter": "python",
   "pygments_lexer": "ipython3",
   "version": "3.6.8"
  }
 },
 "nbformat": 4,
 "nbformat_minor": 2
}
